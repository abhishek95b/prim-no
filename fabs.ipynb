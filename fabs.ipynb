{
 "cells": [
  {
   "cell_type": "code",
   "execution_count": 30,
   "id": "93116d02",
   "metadata": {},
   "outputs": [],
   "source": [
    "def fab(n):\n",
    "    if n==0:\n",
    "        return 0\n",
    "    elif n==1:\n",
    "        return 1\n",
    "    elif n==2:\n",
    "        return 1\n",
    "    else:\n",
    "        return fab(n-1)+fab(n-2)\n",
    "    \n",
    "    for i in range(1):\n",
    "        \n",
    "        print(fab(i),end=' ,')"
   ]
  },
  {
   "cell_type": "code",
   "execution_count": 34,
   "id": "e63aea55",
   "metadata": {},
   "outputs": [
    {
     "data": {
      "text/plain": [
       "55"
      ]
     },
     "execution_count": 34,
     "metadata": {},
     "output_type": "execute_result"
    }
   ],
   "source": [
    "fab(10)"
   ]
  },
  {
   "cell_type": "code",
   "execution_count": 36,
   "id": "0cbfbc04",
   "metadata": {},
   "outputs": [],
   "source": [
    "def fab2(n):\n",
    "    if n<0:\n",
    "        print('wrong ip')\n",
    "    elif n==0:\n",
    "        return 0\n",
    "    elif n==1 or n==0:\n",
    "        return 1\n",
    "    else:\n",
    "        return fab2(n-1)+fab2(n-2)\n",
    "    "
   ]
  },
  {
   "cell_type": "code",
   "execution_count": 38,
   "id": "9965835c",
   "metadata": {},
   "outputs": [
    {
     "data": {
      "text/plain": [
       "8"
      ]
     },
     "execution_count": 38,
     "metadata": {},
     "output_type": "execute_result"
    }
   ],
   "source": [
    "fab2(6)"
   ]
  },
  {
   "cell_type": "code",
   "execution_count": null,
   "id": "59a0eae0",
   "metadata": {},
   "outputs": [],
   "source": []
  },
  {
   "cell_type": "code",
   "execution_count": null,
   "id": "9e00a376",
   "metadata": {},
   "outputs": [],
   "source": []
  },
  {
   "cell_type": "code",
   "execution_count": null,
   "id": "ce842c4d",
   "metadata": {},
   "outputs": [],
   "source": []
  }
 ],
 "metadata": {
  "kernelspec": {
   "display_name": "Python 3 (ipykernel)",
   "language": "python",
   "name": "python3"
  },
  "language_info": {
   "codemirror_mode": {
    "name": "ipython",
    "version": 3
   },
   "file_extension": ".py",
   "mimetype": "text/x-python",
   "name": "python",
   "nbconvert_exporter": "python",
   "pygments_lexer": "ipython3",
   "version": "3.9.12"
  }
 },
 "nbformat": 4,
 "nbformat_minor": 5
}

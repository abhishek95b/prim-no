{
 "cells": [
  {
   "cell_type": "code",
   "execution_count": 6,
   "id": "93116d02",
   "metadata": {},
   "outputs": [],
   "source": [
    "strg=('sbkjbc jdj jdhic kojio ijkljkjl jijijijijij jiijijij ksjkj')"
   ]
  },
  {
   "cell_type": "code",
   "execution_count": 7,
   "id": "e63aea55",
   "metadata": {},
   "outputs": [
    {
     "data": {
      "text/plain": [
       "'sbkjbc jdj jdhic kojio ijkljkjl jijijijijij jiijijij ksjkj'"
      ]
     },
     "execution_count": 7,
     "metadata": {},
     "output_type": "execute_result"
    }
   ],
   "source": [
    "strg"
   ]
  },
  {
   "cell_type": "code",
   "execution_count": 8,
   "id": "0cbfbc04",
   "metadata": {},
   "outputs": [
    {
     "data": {
      "text/plain": [
       "58"
      ]
     },
     "execution_count": 8,
     "metadata": {},
     "output_type": "execute_result"
    }
   ],
   "source": [
    "len(strg)"
   ]
  },
  {
   "cell_type": "code",
   "execution_count": 9,
   "id": "9965835c",
   "metadata": {},
   "outputs": [
    {
     "data": {
      "text/plain": [
       "8"
      ]
     },
     "execution_count": 9,
     "metadata": {},
     "output_type": "execute_result"
    }
   ],
   "source": [
    "len(strg.split())"
   ]
  },
  {
   "cell_type": "code",
   "execution_count": 12,
   "id": "59a0eae0",
   "metadata": {},
   "outputs": [
    {
     "name": "stdout",
     "output_type": "stream",
     "text": [
      "enter ther no:15\n",
      "not present\n"
     ]
    }
   ],
   "source": [
    "no=int(input('enter ther no:'))\n",
    "list1=[1,2,4,5,9,]\n",
    "if no in list1:\n",
    "    print('present')\n",
    "else:\n",
    "        print('not present')"
   ]
  },
  {
   "cell_type": "code",
   "execution_count": null,
   "id": "9e00a376",
   "metadata": {},
   "outputs": [],
   "source": []
  },
  {
   "cell_type": "code",
   "execution_count": null,
   "id": "ce842c4d",
   "metadata": {},
   "outputs": [],
   "source": []
  }
 ],
 "metadata": {
  "kernelspec": {
   "display_name": "Python 3 (ipykernel)",
   "language": "python",
   "name": "python3"
  },
  "language_info": {
   "codemirror_mode": {
    "name": "ipython",
    "version": 3
   },
   "file_extension": ".py",
   "mimetype": "text/x-python",
   "name": "python",
   "nbconvert_exporter": "python",
   "pygments_lexer": "ipython3",
   "version": "3.9.12"
  }
 },
 "nbformat": 4,
 "nbformat_minor": 5
}
